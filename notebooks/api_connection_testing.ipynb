{
 "cells": [
  {
   "cell_type": "code",
   "execution_count": 1,
   "id": "166eb677-efa0-41e0-95b5-3efa2d762de1",
   "metadata": {},
   "outputs": [],
   "source": [
    "import requests\n",
    "import json\n",
    "import os\n",
    "import sqlite3\n",
    "import pprint\n",
    "import pandas as pd\n",
    "import sys\n",
    "sys.path.append('../lib')\n",
    "from load_creds import load_env_credentials"
   ]
  },
  {
   "cell_type": "code",
   "execution_count": 2,
   "id": "91f3c245-4f3d-4d91-930d-c8f0750824b7",
   "metadata": {},
   "outputs": [],
   "source": [
    "load_env_credentials()\n",
    "api_key = os.getenv('eia_api_key')"
   ]
  },
  {
   "cell_type": "code",
   "execution_count": 3,
   "id": "90da6681-7625-42fe-b1a5-babab41d6a1e",
   "metadata": {},
   "outputs": [
    {
     "name": "stdout",
     "output_type": "stream",
     "text": [
      "Request successful!\n"
     ]
    }
   ],
   "source": [
    "# Specify the series ID you want to retrieve\n",
    "series_id = \"PET.EMM_EPM0_PTE_R10_DPG.W\"\n",
    "\n",
    "# Construct the API request URL\n",
    "url = f\"https://api.eia.gov/v2/seriesid/{series_id}?api_key={api_key}\"\n",
    "\n",
    "# Send the HTTP request and get the response\n",
    "response = requests.get(url)\n",
    "if response.status_code == 200:\n",
    "    print(\"Request successful!\")\n",
    "else:\n",
    "    print(f\"Request failed with status code: {response.status_code}\")\n",
    "\n",
    "data = json.loads(response.text)"
   ]
  },
  {
   "cell_type": "markdown",
   "id": "8ac7761b-f420-4b0f-82f8-0197525dda03",
   "metadata": {},
   "source": [
    "series_id for each padd:\n",
    "\n",
    "    PADD 1 (East Coast): \"PET.EMM_EPM0_PTE_R10_DPG.W\"\n",
    "    PADD 2 (Midwest): \"PET.EMM_EPM0_PTE_R20_DPG.W\"\n",
    "    PADD 3 (Gulf Coast): \"PET.EMM_EPM0_PTE_R30_DPG.W\"\n",
    "    PADD 4 (Rocky Mountain): \"PET.EMM_EPM0_PTE_R40_DPG.W\"\n",
    "    PADD 5 (West Coast): \"PET.EMM_EPM0_PTE_R50_DPG.W\""
   ]
  },
  {
   "cell_type": "code",
   "execution_count": 4,
   "id": "b8c0b539-4ba3-46b9-b64f-ef03fe7188af",
   "metadata": {},
   "outputs": [
    {
     "name": "stdout",
     "output_type": "stream",
     "text": [
      "{'area-name': 'PADD 1',\n",
      " 'duoarea': 'R10',\n",
      " 'period': '2023-07-03',\n",
      " 'process': 'PTE',\n",
      " 'process-name': 'Retail Sales',\n",
      " 'product': 'EPM0',\n",
      " 'product-name': 'Total Gasoline',\n",
      " 'series': 'EMM_EPM0_PTE_R10_DPG',\n",
      " 'series-description': 'East Coast All Grades All Formulations Retail Gasoline '\n",
      "                       'Prices (Dollars per Gallon)',\n",
      " 'units': '$/GAL',\n",
      " 'value': 3.475}\n"
     ]
    }
   ],
   "source": [
    "pprint.pprint(data['response']['data'][0])"
   ]
  },
  {
   "cell_type": "code",
   "execution_count": 6,
   "id": "ec2173f0-7561-4752-8119-cd4293fea8bc",
   "metadata": {},
   "outputs": [],
   "source": [
    "petrol_df = pd.DataFrame(data['response']['data']).head()"
   ]
  },
  {
   "cell_type": "code",
   "execution_count": 7,
   "id": "40378b5f-0fd7-4e52-b648-46b7c5ab754a",
   "metadata": {},
   "outputs": [
    {
     "data": {
      "text/html": [
       "<div>\n",
       "<style scoped>\n",
       "    .dataframe tbody tr th:only-of-type {\n",
       "        vertical-align: middle;\n",
       "    }\n",
       "\n",
       "    .dataframe tbody tr th {\n",
       "        vertical-align: top;\n",
       "    }\n",
       "\n",
       "    .dataframe thead th {\n",
       "        text-align: right;\n",
       "    }\n",
       "</style>\n",
       "<table border=\"1\" class=\"dataframe\">\n",
       "  <thead>\n",
       "    <tr style=\"text-align: right;\">\n",
       "      <th></th>\n",
       "      <th>period</th>\n",
       "      <th>duoarea</th>\n",
       "      <th>area-name</th>\n",
       "      <th>product</th>\n",
       "      <th>product-name</th>\n",
       "      <th>process</th>\n",
       "      <th>process-name</th>\n",
       "      <th>series</th>\n",
       "      <th>series-description</th>\n",
       "      <th>value</th>\n",
       "      <th>units</th>\n",
       "    </tr>\n",
       "  </thead>\n",
       "  <tbody>\n",
       "    <tr>\n",
       "      <th>0</th>\n",
       "      <td>2023-07-03</td>\n",
       "      <td>R10</td>\n",
       "      <td>PADD 1</td>\n",
       "      <td>EPM0</td>\n",
       "      <td>Total Gasoline</td>\n",
       "      <td>PTE</td>\n",
       "      <td>Retail Sales</td>\n",
       "      <td>EMM_EPM0_PTE_R10_DPG</td>\n",
       "      <td>East Coast All Grades All Formulations Retail ...</td>\n",
       "      <td>3.475</td>\n",
       "      <td>$/GAL</td>\n",
       "    </tr>\n",
       "    <tr>\n",
       "      <th>1</th>\n",
       "      <td>2023-06-26</td>\n",
       "      <td>R10</td>\n",
       "      <td>PADD 1</td>\n",
       "      <td>EPM0</td>\n",
       "      <td>Total Gasoline</td>\n",
       "      <td>PTE</td>\n",
       "      <td>Retail Sales</td>\n",
       "      <td>EMM_EPM0_PTE_R10_DPG</td>\n",
       "      <td>East Coast All Grades All Formulations Retail ...</td>\n",
       "      <td>3.506</td>\n",
       "      <td>$/GAL</td>\n",
       "    </tr>\n",
       "    <tr>\n",
       "      <th>2</th>\n",
       "      <td>2023-06-19</td>\n",
       "      <td>R10</td>\n",
       "      <td>PADD 1</td>\n",
       "      <td>EPM0</td>\n",
       "      <td>Total Gasoline</td>\n",
       "      <td>PTE</td>\n",
       "      <td>Retail Sales</td>\n",
       "      <td>EMM_EPM0_PTE_R10_DPG</td>\n",
       "      <td>East Coast All Grades All Formulations Retail ...</td>\n",
       "      <td>3.518</td>\n",
       "      <td>$/GAL</td>\n",
       "    </tr>\n",
       "    <tr>\n",
       "      <th>3</th>\n",
       "      <td>2023-06-12</td>\n",
       "      <td>R10</td>\n",
       "      <td>PADD 1</td>\n",
       "      <td>EPM0</td>\n",
       "      <td>Total Gasoline</td>\n",
       "      <td>PTE</td>\n",
       "      <td>Retail Sales</td>\n",
       "      <td>EMM_EPM0_PTE_R10_DPG</td>\n",
       "      <td>East Coast All Grades All Formulations Retail ...</td>\n",
       "      <td>3.531</td>\n",
       "      <td>$/GAL</td>\n",
       "    </tr>\n",
       "    <tr>\n",
       "      <th>4</th>\n",
       "      <td>2023-06-05</td>\n",
       "      <td>R10</td>\n",
       "      <td>PADD 1</td>\n",
       "      <td>EPM0</td>\n",
       "      <td>Total Gasoline</td>\n",
       "      <td>PTE</td>\n",
       "      <td>Retail Sales</td>\n",
       "      <td>EMM_EPM0_PTE_R10_DPG</td>\n",
       "      <td>East Coast All Grades All Formulations Retail ...</td>\n",
       "      <td>3.512</td>\n",
       "      <td>$/GAL</td>\n",
       "    </tr>\n",
       "  </tbody>\n",
       "</table>\n",
       "</div>"
      ],
      "text/plain": [
       "       period duoarea area-name product    product-name process  process-name  \\\n",
       "0  2023-07-03     R10    PADD 1    EPM0  Total Gasoline     PTE  Retail Sales   \n",
       "1  2023-06-26     R10    PADD 1    EPM0  Total Gasoline     PTE  Retail Sales   \n",
       "2  2023-06-19     R10    PADD 1    EPM0  Total Gasoline     PTE  Retail Sales   \n",
       "3  2023-06-12     R10    PADD 1    EPM0  Total Gasoline     PTE  Retail Sales   \n",
       "4  2023-06-05     R10    PADD 1    EPM0  Total Gasoline     PTE  Retail Sales   \n",
       "\n",
       "                 series                                 series-description  \\\n",
       "0  EMM_EPM0_PTE_R10_DPG  East Coast All Grades All Formulations Retail ...   \n",
       "1  EMM_EPM0_PTE_R10_DPG  East Coast All Grades All Formulations Retail ...   \n",
       "2  EMM_EPM0_PTE_R10_DPG  East Coast All Grades All Formulations Retail ...   \n",
       "3  EMM_EPM0_PTE_R10_DPG  East Coast All Grades All Formulations Retail ...   \n",
       "4  EMM_EPM0_PTE_R10_DPG  East Coast All Grades All Formulations Retail ...   \n",
       "\n",
       "   value  units  \n",
       "0  3.475  $/GAL  \n",
       "1  3.506  $/GAL  \n",
       "2  3.518  $/GAL  \n",
       "3  3.531  $/GAL  \n",
       "4  3.512  $/GAL  "
      ]
     },
     "execution_count": 7,
     "metadata": {},
     "output_type": "execute_result"
    }
   ],
   "source": [
    "petrol_df.head()"
   ]
  },
  {
   "cell_type": "code",
   "execution_count": 8,
   "id": "5f396a02-3e87-45ff-92cc-525458503fe7",
   "metadata": {},
   "outputs": [
    {
     "data": {
      "text/plain": [
       "Index(['period', 'duoarea', 'area-name', 'product', 'product-name', 'process',\n",
       "       'process-name', 'series', 'series-description', 'value', 'units'],\n",
       "      dtype='object')"
      ]
     },
     "execution_count": 8,
     "metadata": {},
     "output_type": "execute_result"
    }
   ],
   "source": [
    "petrol_df.columns"
   ]
  },
  {
   "cell_type": "code",
   "execution_count": 9,
   "id": "a5bf1ee1-c8f3-4fcc-ba26-bfff5056d66b",
   "metadata": {},
   "outputs": [
    {
     "data": {
      "text/plain": [
       "period                 object\n",
       "duoarea                object\n",
       "area-name              object\n",
       "product                object\n",
       "product-name           object\n",
       "process                object\n",
       "process-name           object\n",
       "series                 object\n",
       "series-description     object\n",
       "value                 float64\n",
       "units                  object\n",
       "dtype: object"
      ]
     },
     "execution_count": 9,
     "metadata": {},
     "output_type": "execute_result"
    }
   ],
   "source": [
    "petrol_df.dtypes"
   ]
  }
 ],
 "metadata": {
  "kernelspec": {
   "display_name": "Python 3 (ipykernel)",
   "language": "python",
   "name": "python3"
  },
  "language_info": {
   "codemirror_mode": {
    "name": "ipython",
    "version": 3
   },
   "file_extension": ".py",
   "mimetype": "text/x-python",
   "name": "python",
   "nbconvert_exporter": "python",
   "pygments_lexer": "ipython3",
   "version": "3.10.5"
  }
 },
 "nbformat": 4,
 "nbformat_minor": 5
}
