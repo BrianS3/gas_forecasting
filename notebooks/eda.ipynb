{
 "cells": [
  {
   "cell_type": "markdown",
   "id": "a1512470-f15e-406c-bee3-22f44582a8b3",
   "metadata": {},
   "source": [
    "# Exploratory Data Analysis\n",
    "US Energy Information Administration: Gasoline Retail Prices"
   ]
  },
  {
   "cell_type": "code",
   "execution_count": 1,
   "id": "57bb0fb1-9d3a-4960-9bff-de044187c1c5",
   "metadata": {},
   "outputs": [],
   "source": [
    "import pandas as pd\n",
    "import numpy as np\n",
    "import altair as alt\n",
    "import sqlite3"
   ]
  },
  {
   "cell_type": "code",
   "execution_count": 8,
   "id": "cd57374b-97ea-48cc-a56b-be2a1deb5f47",
   "metadata": {},
   "outputs": [],
   "source": [
    "conn = sqlite3.connect('../database/gas_data.db')\n",
    "query = 'select * from gas_prices'\n",
    "raw_data = pd.read_sql(query,conn)"
   ]
  },
  {
   "cell_type": "code",
   "execution_count": 9,
   "id": "2383429b-b489-4e6e-b25c-3563b6b83711",
   "metadata": {},
   "outputs": [
    {
     "data": {
      "text/html": [
       "<div>\n",
       "<style scoped>\n",
       "    .dataframe tbody tr th:only-of-type {\n",
       "        vertical-align: middle;\n",
       "    }\n",
       "\n",
       "    .dataframe tbody tr th {\n",
       "        vertical-align: top;\n",
       "    }\n",
       "\n",
       "    .dataframe thead th {\n",
       "        text-align: right;\n",
       "    }\n",
       "</style>\n",
       "<table border=\"1\" class=\"dataframe\">\n",
       "  <thead>\n",
       "    <tr style=\"text-align: right;\">\n",
       "      <th></th>\n",
       "      <th>padd</th>\n",
       "      <th>duoarea</th>\n",
       "      <th>period</th>\n",
       "      <th>product</th>\n",
       "      <th>product_name</th>\n",
       "      <th>series_description</th>\n",
       "      <th>price</th>\n",
       "      <th>units</th>\n",
       "    </tr>\n",
       "  </thead>\n",
       "  <tbody>\n",
       "    <tr>\n",
       "      <th>4189</th>\n",
       "      <td>PADD 3</td>\n",
       "      <td>R30</td>\n",
       "      <td>2003-12-01</td>\n",
       "      <td>EPM0</td>\n",
       "      <td>Total Gasoline</td>\n",
       "      <td>Gulf Coast All Grades All Formulations Retail ...</td>\n",
       "      <td>1.439</td>\n",
       "      <td>$/GAL</td>\n",
       "    </tr>\n",
       "    <tr>\n",
       "      <th>9516</th>\n",
       "      <td>PADD 4</td>\n",
       "      <td>R40</td>\n",
       "      <td>2023-08-21</td>\n",
       "      <td>EPM0</td>\n",
       "      <td>Total Gasoline</td>\n",
       "      <td>Rocky Mountain All Grades All Formulations Ret...</td>\n",
       "      <td>4.157</td>\n",
       "      <td>$/GAL</td>\n",
       "    </tr>\n",
       "    <tr>\n",
       "      <th>2085</th>\n",
       "      <td>PADD 2</td>\n",
       "      <td>R20</td>\n",
       "      <td>2013-12-02</td>\n",
       "      <td>EPM0</td>\n",
       "      <td>Total Gasoline</td>\n",
       "      <td>Midwest All Grades All Formulations Retail Gas...</td>\n",
       "      <td>3.179</td>\n",
       "      <td>$/GAL</td>\n",
       "    </tr>\n",
       "    <tr>\n",
       "      <th>9267</th>\n",
       "      <td>PADD 1</td>\n",
       "      <td>R10</td>\n",
       "      <td>1997-09-08</td>\n",
       "      <td>EPM0</td>\n",
       "      <td>Total Gasoline</td>\n",
       "      <td>East Coast All Grades All Formulations Retail ...</td>\n",
       "      <td>1.291</td>\n",
       "      <td>$/GAL</td>\n",
       "    </tr>\n",
       "    <tr>\n",
       "      <th>8145</th>\n",
       "      <td>PADD 1</td>\n",
       "      <td>R10</td>\n",
       "      <td>2019-03-11</td>\n",
       "      <td>EPM0</td>\n",
       "      <td>Total Gasoline</td>\n",
       "      <td>East Coast All Grades All Formulations Retail ...</td>\n",
       "      <td>2.501</td>\n",
       "      <td>$/GAL</td>\n",
       "    </tr>\n",
       "  </tbody>\n",
       "</table>\n",
       "</div>"
      ],
      "text/plain": [
       "        padd duoarea      period product    product_name  \\\n",
       "4189  PADD 3     R30  2003-12-01    EPM0  Total Gasoline   \n",
       "9516  PADD 4     R40  2023-08-21    EPM0  Total Gasoline   \n",
       "2085  PADD 2     R20  2013-12-02    EPM0  Total Gasoline   \n",
       "9267  PADD 1     R10  1997-09-08    EPM0  Total Gasoline   \n",
       "8145  PADD 1     R10  2019-03-11    EPM0  Total Gasoline   \n",
       "\n",
       "                                     series_description  price  units  \n",
       "4189  Gulf Coast All Grades All Formulations Retail ...  1.439  $/GAL  \n",
       "9516  Rocky Mountain All Grades All Formulations Ret...  4.157  $/GAL  \n",
       "2085  Midwest All Grades All Formulations Retail Gas...  3.179  $/GAL  \n",
       "9267  East Coast All Grades All Formulations Retail ...  1.291  $/GAL  \n",
       "8145  East Coast All Grades All Formulations Retail ...  2.501  $/GAL  "
      ]
     },
     "execution_count": 9,
     "metadata": {},
     "output_type": "execute_result"
    }
   ],
   "source": [
    "raw_data.sample(5)"
   ]
  },
  {
   "cell_type": "code",
   "execution_count": 12,
   "id": "08066f80-f398-419a-b8ac-f54325f88379",
   "metadata": {},
   "outputs": [
    {
     "data": {
      "text/plain": [
       "padd                   object\n",
       "duoarea                object\n",
       "period                 object\n",
       "product                object\n",
       "product_name           object\n",
       "series_description     object\n",
       "price                 float64\n",
       "units                  object\n",
       "dtype: object"
      ]
     },
     "execution_count": 12,
     "metadata": {},
     "output_type": "execute_result"
    }
   ],
   "source": [
    "raw_data.dtypes"
   ]
  },
  {
   "cell_type": "markdown",
   "id": "d163e954-fa89-43cd-9a72-6e316680413b",
   "metadata": {},
   "source": [
    "Data is organized by geographic region (padd) and listed by week. The retail price of gas is an average for that area, for all gas fromulations. Using a gas price average of all formulations gives you a more accurate picture of the market. If you only look at one type, like regular unleaded, you're ignoring premium, diesel, and others. Averaging them accounts for variations in supply and demand for each type, offering a more holistic view. Good for tracking trends or making predictions.\n",
    "\n",
    "## Price Trend Over Time\n",
    "\n",
    "First we will analyze how the price has changed over time. Weekly price fluxcuations will not be helpful as there will be too much variation. Let's first consider how a monthly average price shows the data trend."
   ]
  },
  {
   "cell_type": "code",
   "execution_count": 14,
   "id": "2d366c11-a878-46c2-b824-f6cdb2bb1f3a",
   "metadata": {},
   "outputs": [],
   "source": [
    "#rounding price column\n",
    "raw_data['price'] = raw_data['price'].round(2)\n",
    "\n",
    "#set all period dates to first of month for grouping\n",
    "raw_data['period'] = pd.to_datetime(raw_data['period'])\n",
    "raw_data['month'] = raw_data['period'] - pd.offsets.MonthBegin(1)"
   ]
  },
  {
   "cell_type": "code",
   "execution_count": 26,
   "id": "2e29e53d-0b7d-4638-82d4-c226db7e1b5b",
   "metadata": {},
   "outputs": [],
   "source": [
    "#group data and take average price\n",
    "price_by_month = raw_data.groupby(['padd', 'month']).mean(numeric_only=True).round(2).reset_index()"
   ]
  },
  {
   "cell_type": "code",
   "execution_count": 27,
   "id": "1e8e51c8-f78c-4444-b5bc-edb99afcd0ac",
   "metadata": {},
   "outputs": [
    {
     "data": {
      "text/html": [
       "<div>\n",
       "<style scoped>\n",
       "    .dataframe tbody tr th:only-of-type {\n",
       "        vertical-align: middle;\n",
       "    }\n",
       "\n",
       "    .dataframe tbody tr th {\n",
       "        vertical-align: top;\n",
       "    }\n",
       "\n",
       "    .dataframe thead th {\n",
       "        text-align: right;\n",
       "    }\n",
       "</style>\n",
       "<table border=\"1\" class=\"dataframe\">\n",
       "  <thead>\n",
       "    <tr style=\"text-align: right;\">\n",
       "      <th></th>\n",
       "      <th>padd</th>\n",
       "      <th>month</th>\n",
       "      <th>price</th>\n",
       "    </tr>\n",
       "  </thead>\n",
       "  <tbody>\n",
       "    <tr>\n",
       "      <th>0</th>\n",
       "      <td>PADD 1</td>\n",
       "      <td>1993-04-01</td>\n",
       "      <td>1.05</td>\n",
       "    </tr>\n",
       "    <tr>\n",
       "      <th>1</th>\n",
       "      <td>PADD 1</td>\n",
       "      <td>1993-05-01</td>\n",
       "      <td>1.07</td>\n",
       "    </tr>\n",
       "    <tr>\n",
       "      <th>2</th>\n",
       "      <td>PADD 1</td>\n",
       "      <td>1993-06-01</td>\n",
       "      <td>1.08</td>\n",
       "    </tr>\n",
       "    <tr>\n",
       "      <th>3</th>\n",
       "      <td>PADD 1</td>\n",
       "      <td>1993-07-01</td>\n",
       "      <td>1.06</td>\n",
       "    </tr>\n",
       "    <tr>\n",
       "      <th>4</th>\n",
       "      <td>PADD 1</td>\n",
       "      <td>1993-08-01</td>\n",
       "      <td>1.05</td>\n",
       "    </tr>\n",
       "    <tr>\n",
       "      <th>...</th>\n",
       "      <td>...</td>\n",
       "      <td>...</td>\n",
       "      <td>...</td>\n",
       "    </tr>\n",
       "    <tr>\n",
       "      <th>1825</th>\n",
       "      <td>PADD 5</td>\n",
       "      <td>2023-05-01</td>\n",
       "      <td>4.62</td>\n",
       "    </tr>\n",
       "    <tr>\n",
       "      <th>1826</th>\n",
       "      <td>PADD 5</td>\n",
       "      <td>2023-06-01</td>\n",
       "      <td>4.66</td>\n",
       "    </tr>\n",
       "    <tr>\n",
       "      <th>1827</th>\n",
       "      <td>PADD 5</td>\n",
       "      <td>2023-07-01</td>\n",
       "      <td>4.67</td>\n",
       "    </tr>\n",
       "    <tr>\n",
       "      <th>1828</th>\n",
       "      <td>PADD 5</td>\n",
       "      <td>2023-08-01</td>\n",
       "      <td>4.92</td>\n",
       "    </tr>\n",
       "    <tr>\n",
       "      <th>1829</th>\n",
       "      <td>PADD 5</td>\n",
       "      <td>2023-09-01</td>\n",
       "      <td>5.06</td>\n",
       "    </tr>\n",
       "  </tbody>\n",
       "</table>\n",
       "<p>1830 rows × 3 columns</p>\n",
       "</div>"
      ],
      "text/plain": [
       "        padd      month  price\n",
       "0     PADD 1 1993-04-01   1.05\n",
       "1     PADD 1 1993-05-01   1.07\n",
       "2     PADD 1 1993-06-01   1.08\n",
       "3     PADD 1 1993-07-01   1.06\n",
       "4     PADD 1 1993-08-01   1.05\n",
       "...      ...        ...    ...\n",
       "1825  PADD 5 2023-05-01   4.62\n",
       "1826  PADD 5 2023-06-01   4.66\n",
       "1827  PADD 5 2023-07-01   4.67\n",
       "1828  PADD 5 2023-08-01   4.92\n",
       "1829  PADD 5 2023-09-01   5.06\n",
       "\n",
       "[1830 rows x 3 columns]"
      ]
     },
     "execution_count": 27,
     "metadata": {},
     "output_type": "execute_result"
    }
   ],
   "source": [
    "price_by_month"
   ]
  }
 ],
 "metadata": {
  "kernelspec": {
   "display_name": "Python 3 (ipykernel)",
   "language": "python",
   "name": "python3"
  },
  "language_info": {
   "codemirror_mode": {
    "name": "ipython",
    "version": 3
   },
   "file_extension": ".py",
   "mimetype": "text/x-python",
   "name": "python",
   "nbconvert_exporter": "python",
   "pygments_lexer": "ipython3",
   "version": "3.10.5"
  }
 },
 "nbformat": 4,
 "nbformat_minor": 5
}
